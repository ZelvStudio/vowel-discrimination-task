{
 "cells": [
  {
   "cell_type": "code",
   "execution_count": null,
   "id": "add4ec22-478b-4763-be1a-b751aeadc2a5",
   "metadata": {},
   "outputs": [],
   "source": [
    "# get long vowels files\n",
    "\n",
    "# match them with the corresponding by vowels\n"
   ]
  },
  {
   "cell_type": "code",
   "execution_count": null,
   "id": "77bdce9b-723a-4400-872a-19999ed2830c",
   "metadata": {},
   "outputs": [],
   "source": [
    "# compute mels of long vowels\n",
    "\n",
    "# compute average mel cepstrum of truth vowels\n"
   ]
  }
 ],
 "metadata": {
  "kernelspec": {
   "display_name": "Python 3 (ipykernel)",
   "language": "python",
   "name": "python3"
  },
  "language_info": {
   "codemirror_mode": {
    "name": "ipython",
    "version": 3
   },
   "file_extension": ".py",
   "mimetype": "text/x-python",
   "name": "python",
   "nbconvert_exporter": "python",
   "pygments_lexer": "ipython3",
   "version": "3.10.12"
  }
 },
 "nbformat": 4,
 "nbformat_minor": 5
}
